{
 "cells": [
  {
   "cell_type": "markdown",
   "id": "0fd14352",
   "metadata": {},
   "source": [
    "# Dataset: Base de microdatos EVyTH\n",
    "  \n",
    "- [Sitio Web](https://datos.gob.ar/dataset/turismo-encuesta-viajes-turismo-hogares-evyth---microdatos/archivo/turismo_645e5505-68ee-4cfa-90f9-fcc9a4a34a85)\n",
    "\n",
    "- [Descarga CSV](http://datos.yvera.gob.ar/dataset/b5819e9b-5edf-4aad-bd39-a81158a2b3f3/resource/645e5505-68ee-4cfa-90f9-fcc9a4a34a85/download/evyth_microdatos.csv)\n",
    "\n",
    "- [PDF informativo](http://datos.yvera.gob.ar/dataset/b5819e9b-5edf-4aad-bd39-a81158a2b3f3/resource/1b5d26f1-0ab9-4908-a44f-9ac5bd685f1b/download/evyth-data.pdf)\n",
    "\n",
    "- [Información en TXT](https://datos.yvera.gob.ar/dataset/b5819e9b-5edf-4aad-bd39-a81158a2b3f3/resource/20e2c018-a2ee-4d97-9c67-a4303f669255/download/evyth_diccionario_registro.txt)\n",
    "\n",
    "- [Diccionario en CSV](http://datos.yvera.gob.ar/dataset/b5819e9b-5edf-4aad-bd39-a81158a2b3f3/resource/d8107236-f5ba-428d-8a31-f9b2034d8c8f/download/evyth_diccionario_registro.csv)\n",
    "        "
   ]
  },
  {
   "cell_type": "markdown",
   "id": "4935cd77",
   "metadata": {},
   "source": [
    "### Librerías"
   ]
  },
  {
   "cell_type": "code",
   "execution_count": 1,
   "id": "1e9142ff",
   "metadata": {},
   "outputs": [],
   "source": [
    "import pandas as pd"
   ]
  },
  {
   "cell_type": "markdown",
   "id": "3eba367e",
   "metadata": {},
   "source": [
    "### Carga de datos"
   ]
  },
  {
   "cell_type": "code",
   "execution_count": 14,
   "id": "d76c92a1",
   "metadata": {},
   "outputs": [],
   "source": [
    "data = pd.read_csv('data/evyth_microdatos.csv')\n",
    "dicc = pd.read_csv('data/evyth_diccionario_registro.csv')"
   ]
  },
  {
   "cell_type": "markdown",
   "id": "f00cce5f",
   "metadata": {},
   "source": [
    "### Inspección de dataset"
   ]
  },
  {
   "cell_type": "code",
   "execution_count": 15,
   "id": "82ba5770",
   "metadata": {},
   "outputs": [],
   "source": [
    "#data.info()"
   ]
  },
  {
   "cell_type": "code",
   "execution_count": 16,
   "id": "88e5d89c",
   "metadata": {},
   "outputs": [],
   "source": [
    "#data.head()"
   ]
  },
  {
   "cell_type": "code",
   "execution_count": 17,
   "id": "996ef167",
   "metadata": {},
   "outputs": [],
   "source": [
    "#dicc.info()"
   ]
  },
  {
   "cell_type": "code",
   "execution_count": 18,
   "id": "4e16eb53",
   "metadata": {},
   "outputs": [],
   "source": [
    "#dicc.tail()"
   ]
  },
  {
   "cell_type": "markdown",
   "id": "65eee2a9",
   "metadata": {},
   "source": [
    "## Tratamiento de datos"
   ]
  },
  {
   "cell_type": "markdown",
   "id": "5155ad24",
   "metadata": {},
   "source": [
    "### Diccionario de registros\n",
    "\n",
    "Se realiza una limpieza de columnas y filas, para dejar solamente la información útil para el caso de estudio"
   ]
  },
  {
   "cell_type": "code",
   "execution_count": 19,
   "id": "582c7256",
   "metadata": {},
   "outputs": [
    {
     "data": {
      "text/plain": [
       "variable        0\n",
       "opcion         89\n",
       "descripcion     0\n",
       "dtype: int64"
      ]
     },
     "execution_count": 19,
     "metadata": {},
     "output_type": "execute_result"
    }
   ],
   "source": [
    "# De inicio se puede ver que el dataset posee valores NaN. Esto significa un 0 u opción 0.\n",
    "dicc.isna().sum()"
   ]
  },
  {
   "cell_type": "code",
   "execution_count": 20,
   "id": "b4723673",
   "metadata": {},
   "outputs": [
    {
     "data": {
      "text/plain": [
       "variable       0\n",
       "opcion         0\n",
       "descripcion    0\n",
       "dtype: int64"
      ]
     },
     "execution_count": 20,
     "metadata": {},
     "output_type": "execute_result"
    }
   ],
   "source": [
    "# Se procede entonces a reemplazar estos valores en la columna de \"opcion\"\n",
    "dicc.opcion.fillna(0,inplace=True)\n",
    "dicc.isna().sum()"
   ]
  },
  {
   "cell_type": "code",
   "execution_count": 21,
   "id": "9b67144f",
   "metadata": {},
   "outputs": [
    {
     "data": {
      "text/plain": [
       "variable       object\n",
       "opcion          int16\n",
       "descripcion    object\n",
       "dtype: object"
      ]
     },
     "execution_count": 21,
     "metadata": {},
     "output_type": "execute_result"
    }
   ],
   "source": [
    "# Se cambia el formato de la columna de opcion a enteros, para mayor legibilidad.\n",
    "# Esto permite comparar directamente los valores con la otra tabla\n",
    "dicc['opcion'] = dicc['opcion'].astype('int16')\n",
    "dicc.dtypes"
   ]
  },
  {
   "cell_type": "markdown",
   "id": "d8415051",
   "metadata": {},
   "source": [
    "### Dataset principal"
   ]
  },
  {
   "cell_type": "markdown",
   "id": "d72a6432",
   "metadata": {},
   "source": [
    "- ##### Reducción de número de columnas\n",
    "El resultado final, implica reducir el número de columnas, que van a ser luego las variables ingresadas en el formulario.\n",
    "\n",
    "\n",
    "- ##### Reducción de número de filas\n",
    "La idea es generar un dataset de hasta 50 participantes, para no llenar una gran cantidad de formularios de Google. El objetivo no es el análisis completo en sí, si no prestar atención a todo el proceso."
   ]
  },
  {
   "cell_type": "markdown",
   "id": "30d46a07",
   "metadata": {},
   "source": [
    "#### Reducción de número de columnas\n",
    "\n",
    "Se genera un nuevo dataset, solo con las columnas de interés, a partir del diccionario de registro"
   ]
  },
  {
   "cell_type": "code",
   "execution_count": 22,
   "id": "7a90fe83",
   "metadata": {},
   "outputs": [],
   "source": [
    "data = data[['anio','region_origen','aglomerado_origen','region_destino','provincia_destino','localidad_destino','tipo_visitante', 'px08','px09','px10_1','px17_2_5','px17_2_11']]"
   ]
  },
  {
   "cell_type": "markdown",
   "id": "12a5c6af",
   "metadata": {},
   "source": [
    "Como en el caso del dataset diccionario, se revisa por valores nulos"
   ]
  },
  {
   "cell_type": "code",
   "execution_count": 28,
   "id": "7bbc181a",
   "metadata": {},
   "outputs": [
    {
     "data": {
      "text/plain": [
       "anio                   0\n",
       "region_origen          0\n",
       "aglomerado_origen      0\n",
       "region_destino         0\n",
       "provincia_destino      0\n",
       "localidad_destino      0\n",
       "tipo_visitante         0\n",
       "px08                   0\n",
       "px09                   0\n",
       "px10_1                 0\n",
       "px17_2_5             406\n",
       "px17_2_11            410\n",
       "dtype: int64"
      ]
     },
     "execution_count": 28,
     "metadata": {},
     "output_type": "execute_result"
    }
   ],
   "source": [
    "data.isna().sum()"
   ]
  },
  {
   "cell_type": "code",
   "execution_count": 31,
   "id": "3eec2a74",
   "metadata": {},
   "outputs": [],
   "source": [
    "data['px17_2_5'].fillna(0,inplace=True)\n",
    "data['px17_2_11'].fillna(0,inplace=True)"
   ]
  },
  {
   "cell_type": "markdown",
   "id": "0059ef40",
   "metadata": {},
   "source": [
    "Las columnas con valores float, también se pasan a enteros"
   ]
  },
  {
   "cell_type": "code",
   "execution_count": 33,
   "id": "04e526be",
   "metadata": {},
   "outputs": [
    {
     "data": {
      "text/plain": [
       "anio                   int64\n",
       "region_origen          int64\n",
       "aglomerado_origen      int64\n",
       "region_destino         int64\n",
       "provincia_destino      int64\n",
       "localidad_destino     object\n",
       "tipo_visitante         int64\n",
       "px08                   int64\n",
       "px09                   int64\n",
       "px10_1                 int64\n",
       "px17_2_5             float64\n",
       "px17_2_11            float64\n",
       "dtype: object"
      ]
     },
     "execution_count": 33,
     "metadata": {},
     "output_type": "execute_result"
    }
   ],
   "source": [
    "data.dtypes"
   ]
  },
  {
   "cell_type": "code",
   "execution_count": 34,
   "id": "511ecffe",
   "metadata": {},
   "outputs": [],
   "source": [
    "data['px17_2_5'] = data['px17_2_5'].astype('int16')\n",
    "data['px17_2_11'] = data['px17_2_11'].astype('int16')"
   ]
  },
  {
   "cell_type": "code",
   "execution_count": 35,
   "id": "d8c5b324",
   "metadata": {},
   "outputs": [
    {
     "data": {
      "text/plain": [
       "anio                  int64\n",
       "region_origen         int64\n",
       "aglomerado_origen     int64\n",
       "region_destino        int64\n",
       "provincia_destino     int64\n",
       "localidad_destino    object\n",
       "tipo_visitante        int64\n",
       "px08                  int64\n",
       "px09                  int64\n",
       "px10_1                int64\n",
       "px17_2_5              int16\n",
       "px17_2_11             int16\n",
       "dtype: object"
      ]
     },
     "execution_count": 35,
     "metadata": {},
     "output_type": "execute_result"
    }
   ],
   "source": [
    "data.dtypes"
   ]
  },
  {
   "cell_type": "markdown",
   "id": "9df228d5",
   "metadata": {},
   "source": [
    "#### Reducción de número de filas\n",
    "Para esto se seleccionan solamente los participantes:\n",
    "\n",
    "    - solo del 2022\n",
    "    - que hayan viajado en avion\n",
    "    - con origen: que no sean de la provincia de Buenos Aires \n",
    "    - como destino:  Bariloche"
   ]
  },
  {
   "cell_type": "markdown",
   "id": "9faed24f",
   "metadata": {},
   "source": [
    "Para ello se quieren obtener los códigos correspondientes, de la tabla de diccionario, y así poder mapearlos en la tabla de datos"
   ]
  },
  {
   "cell_type": "code",
   "execution_count": 36,
   "id": "f63ef9fa",
   "metadata": {},
   "outputs": [
    {
     "data": {
      "text/html": [
       "<div>\n",
       "<style scoped>\n",
       "    .dataframe tbody tr th:only-of-type {\n",
       "        vertical-align: middle;\n",
       "    }\n",
       "\n",
       "    .dataframe tbody tr th {\n",
       "        vertical-align: top;\n",
       "    }\n",
       "\n",
       "    .dataframe thead th {\n",
       "        text-align: right;\n",
       "    }\n",
       "</style>\n",
       "<table border=\"1\" class=\"dataframe\">\n",
       "  <thead>\n",
       "    <tr style=\"text-align: right;\">\n",
       "      <th></th>\n",
       "      <th>variable</th>\n",
       "      <th>opcion</th>\n",
       "      <th>descripcion</th>\n",
       "    </tr>\n",
       "  </thead>\n",
       "  <tbody>\n",
       "    <tr>\n",
       "      <th>0</th>\n",
       "      <td>id_hogar</td>\n",
       "      <td>0</td>\n",
       "      <td>Código de identificación único de hogares</td>\n",
       "    </tr>\n",
       "    <tr>\n",
       "      <th>1</th>\n",
       "      <td>id_viajes</td>\n",
       "      <td>0</td>\n",
       "      <td>Código de identificación único de viajes</td>\n",
       "    </tr>\n",
       "    <tr>\n",
       "      <th>2</th>\n",
       "      <td>miembro</td>\n",
       "      <td>0</td>\n",
       "      <td>Número de miembro en el hogar</td>\n",
       "    </tr>\n",
       "    <tr>\n",
       "      <th>3</th>\n",
       "      <td>anio</td>\n",
       "      <td>0</td>\n",
       "      <td>Año</td>\n",
       "    </tr>\n",
       "    <tr>\n",
       "      <th>4</th>\n",
       "      <td>trimestre</td>\n",
       "      <td>0</td>\n",
       "      <td>Trimestre</td>\n",
       "    </tr>\n",
       "  </tbody>\n",
       "</table>\n",
       "</div>"
      ],
      "text/plain": [
       "    variable  opcion                                descripcion\n",
       "0   id_hogar       0  Código de identificación único de hogares\n",
       "1  id_viajes       0   Código de identificación único de viajes\n",
       "2    miembro       0              Número de miembro en el hogar\n",
       "3       anio       0                                        Año\n",
       "4  trimestre       0                                  Trimestre"
      ]
     },
     "execution_count": 36,
     "metadata": {},
     "output_type": "execute_result"
    }
   ],
   "source": [
    "dicc.head()"
   ]
  },
  {
   "cell_type": "code",
   "execution_count": 37,
   "id": "c833ad8d",
   "metadata": {},
   "outputs": [
    {
     "data": {
      "text/html": [
       "<div>\n",
       "<style scoped>\n",
       "    .dataframe tbody tr th:only-of-type {\n",
       "        vertical-align: middle;\n",
       "    }\n",
       "\n",
       "    .dataframe tbody tr th {\n",
       "        vertical-align: top;\n",
       "    }\n",
       "\n",
       "    .dataframe thead th {\n",
       "        text-align: right;\n",
       "    }\n",
       "</style>\n",
       "<table border=\"1\" class=\"dataframe\">\n",
       "  <thead>\n",
       "    <tr style=\"text-align: right;\">\n",
       "      <th></th>\n",
       "      <th>variable</th>\n",
       "      <th>opcion</th>\n",
       "      <th>descripcion</th>\n",
       "    </tr>\n",
       "  </thead>\n",
       "  <tbody>\n",
       "    <tr>\n",
       "      <th>134</th>\n",
       "      <td>px09</td>\n",
       "      <td>4</td>\n",
       "      <td>Avión</td>\n",
       "    </tr>\n",
       "  </tbody>\n",
       "</table>\n",
       "</div>"
      ],
      "text/plain": [
       "    variable  opcion descripcion\n",
       "134     px09       4       Avión"
      ]
     },
     "execution_count": 37,
     "metadata": {},
     "output_type": "execute_result"
    }
   ],
   "source": [
    "# Los que hayan viajado en avión\n",
    "dicc[dicc['descripcion'] == \"Avión\"]"
   ]
  },
  {
   "cell_type": "code",
   "execution_count": 38,
   "id": "455a94e1",
   "metadata": {},
   "outputs": [],
   "source": [
    "# Provenientes de todo el país, excepto de provincia de Buenos Aires (solo para reducir el dataset final)\n",
    "# Se obtienen los números de opciones a excluir\n",
    "regiones = dicc[(dicc['descripcion'].str.contains('Buenos Aires')) & (dicc['variable'] == 'region_origen')]"
   ]
  },
  {
   "cell_type": "code",
   "execution_count": 39,
   "id": "1da7f11e",
   "metadata": {},
   "outputs": [],
   "source": [
    "# Se cambia el nombre al dataset, para diferenciarlo del original\n",
    "viajes = data[(data['anio'] == 2022) & (data['localidad_destino'] == 'San Carlos de Bariloche') & (data['px09'] == 4) & (data['region_origen'] > 3)]\n",
    "#Dado que ahora todas las entradas son del año 2022, dicha columna ya no es necesaria\n",
    "viajes = viajes.drop('anio', axis=1)"
   ]
  },
  {
   "cell_type": "code",
   "execution_count": 40,
   "id": "d4e24b2d",
   "metadata": {},
   "outputs": [
    {
     "name": "stdout",
     "output_type": "stream",
     "text": [
      "<class 'pandas.core.frame.DataFrame'>\n",
      "Int64Index: 41 entries, 396895 to 419939\n",
      "Data columns (total 11 columns):\n",
      " #   Column             Non-Null Count  Dtype \n",
      "---  ------             --------------  ----- \n",
      " 0   region_origen      41 non-null     int64 \n",
      " 1   aglomerado_origen  41 non-null     int64 \n",
      " 2   region_destino     41 non-null     int64 \n",
      " 3   provincia_destino  41 non-null     int64 \n",
      " 4   localidad_destino  41 non-null     object\n",
      " 5   tipo_visitante     41 non-null     int64 \n",
      " 6   px08               41 non-null     int64 \n",
      " 7   px09               41 non-null     int64 \n",
      " 8   px10_1             41 non-null     int64 \n",
      " 9   px17_2_5           41 non-null     int16 \n",
      " 10  px17_2_11          41 non-null     int16 \n",
      "dtypes: int16(2), int64(8), object(1)\n",
      "memory usage: 3.4+ KB\n"
     ]
    }
   ],
   "source": [
    "# El resultado es un dataset de 41 filas y 12 columnas (cumpliendo con la expectativa de menos de 50 participantes)\n",
    "viajes.info()"
   ]
  },
  {
   "cell_type": "markdown",
   "id": "761819a7",
   "metadata": {},
   "source": [
    "#### Conversión de valores\n",
    "\n",
    "Debido al gran número de entradas de la tabla, la misma hace uso de un archivo de texto con los metadatos, para obtener información de los códigos usados en cada variable. La mayoría de los datos son entonces de tipo int64. Tanto estos como los float64, pasarán a ser strings ahora, indicando el contenido real correspondiente.\n"
   ]
  },
  {
   "cell_type": "code",
   "execution_count": 41,
   "id": "8dd87979",
   "metadata": {},
   "outputs": [],
   "source": [
    "# Primero, se renombran las columnas, para ser más entendibles\n",
    "viajes = viajes.rename(columns={'px08':'alojamiento','px09':'transporte','px10_1':'motivo_viaje','px17_2_5':'actividades','px17_2_11':'naturaleza'})\n"
   ]
  },
  {
   "cell_type": "code",
   "execution_count": 42,
   "id": "4820af2e",
   "metadata": {},
   "outputs": [
    {
     "name": "stdout",
     "output_type": "stream",
     "text": [
      "<class 'pandas.core.frame.DataFrame'>\n",
      "Int64Index: 41 entries, 396895 to 419939\n",
      "Data columns (total 11 columns):\n",
      " #   Column             Non-Null Count  Dtype \n",
      "---  ------             --------------  ----- \n",
      " 0   region_origen      41 non-null     int64 \n",
      " 1   aglomerado_origen  41 non-null     int64 \n",
      " 2   region_destino     41 non-null     int64 \n",
      " 3   provincia_destino  41 non-null     int64 \n",
      " 4   localidad_destino  41 non-null     object\n",
      " 5   tipo_visitante     41 non-null     int64 \n",
      " 6   alojamiento        41 non-null     int64 \n",
      " 7   transporte         41 non-null     int64 \n",
      " 8   motivo_viaje       41 non-null     int64 \n",
      " 9   actividades        41 non-null     int16 \n",
      " 10  naturaleza         41 non-null     int16 \n",
      "dtypes: int16(2), int64(8), object(1)\n",
      "memory usage: 3.4+ KB\n"
     ]
    }
   ],
   "source": [
    "viajes.info()"
   ]
  },
  {
   "cell_type": "code",
   "execution_count": 47,
   "id": "5dc2c795",
   "metadata": {},
   "outputs": [
    {
     "data": {
      "text/html": [
       "<div>\n",
       "<style scoped>\n",
       "    .dataframe tbody tr th:only-of-type {\n",
       "        vertical-align: middle;\n",
       "    }\n",
       "\n",
       "    .dataframe tbody tr th {\n",
       "        vertical-align: top;\n",
       "    }\n",
       "\n",
       "    .dataframe thead th {\n",
       "        text-align: right;\n",
       "    }\n",
       "</style>\n",
       "<table border=\"1\" class=\"dataframe\">\n",
       "  <thead>\n",
       "    <tr style=\"text-align: right;\">\n",
       "      <th></th>\n",
       "      <th>region_origen</th>\n",
       "      <th>aglomerado_origen</th>\n",
       "      <th>region_destino</th>\n",
       "      <th>provincia_destino</th>\n",
       "      <th>localidad_destino</th>\n",
       "      <th>tipo_visitante</th>\n",
       "      <th>alojamiento</th>\n",
       "      <th>transporte</th>\n",
       "      <th>motivo_viaje</th>\n",
       "      <th>actividades</th>\n",
       "      <th>naturaleza</th>\n",
       "    </tr>\n",
       "  </thead>\n",
       "  <tbody>\n",
       "    <tr>\n",
       "      <th>396895</th>\n",
       "      <td>4</td>\n",
       "      <td>13</td>\n",
       "      <td>8</td>\n",
       "      <td>62</td>\n",
       "      <td>San Carlos de Bariloche</td>\n",
       "      <td>1</td>\n",
       "      <td>7</td>\n",
       "      <td>4</td>\n",
       "      <td>2</td>\n",
       "      <td>2</td>\n",
       "      <td>2</td>\n",
       "    </tr>\n",
       "    <tr>\n",
       "      <th>397269</th>\n",
       "      <td>5</td>\n",
       "      <td>4</td>\n",
       "      <td>8</td>\n",
       "      <td>62</td>\n",
       "      <td>San Carlos de Bariloche</td>\n",
       "      <td>1</td>\n",
       "      <td>7</td>\n",
       "      <td>4</td>\n",
       "      <td>1</td>\n",
       "      <td>2</td>\n",
       "      <td>1</td>\n",
       "    </tr>\n",
       "    <tr>\n",
       "      <th>398377</th>\n",
       "      <td>7</td>\n",
       "      <td>10</td>\n",
       "      <td>8</td>\n",
       "      <td>62</td>\n",
       "      <td>San Carlos de Bariloche</td>\n",
       "      <td>1</td>\n",
       "      <td>3</td>\n",
       "      <td>4</td>\n",
       "      <td>2</td>\n",
       "      <td>1</td>\n",
       "      <td>2</td>\n",
       "    </tr>\n",
       "    <tr>\n",
       "      <th>399841</th>\n",
       "      <td>7</td>\n",
       "      <td>10</td>\n",
       "      <td>8</td>\n",
       "      <td>62</td>\n",
       "      <td>San Carlos de Bariloche</td>\n",
       "      <td>1</td>\n",
       "      <td>7</td>\n",
       "      <td>4</td>\n",
       "      <td>1</td>\n",
       "      <td>2</td>\n",
       "      <td>1</td>\n",
       "    </tr>\n",
       "    <tr>\n",
       "      <th>400917</th>\n",
       "      <td>4</td>\n",
       "      <td>13</td>\n",
       "      <td>8</td>\n",
       "      <td>62</td>\n",
       "      <td>San Carlos de Bariloche</td>\n",
       "      <td>1</td>\n",
       "      <td>8</td>\n",
       "      <td>4</td>\n",
       "      <td>2</td>\n",
       "      <td>1</td>\n",
       "      <td>1</td>\n",
       "    </tr>\n",
       "  </tbody>\n",
       "</table>\n",
       "</div>"
      ],
      "text/plain": [
       "       region_origen aglomerado_origen region_destino provincia_destino  \\\n",
       "396895             4                13              8                62   \n",
       "397269             5                 4              8                62   \n",
       "398377             7                10              8                62   \n",
       "399841             7                10              8                62   \n",
       "400917             4                13              8                62   \n",
       "\n",
       "              localidad_destino tipo_visitante alojamiento transporte  \\\n",
       "396895  San Carlos de Bariloche              1           7          4   \n",
       "397269  San Carlos de Bariloche              1           7          4   \n",
       "398377  San Carlos de Bariloche              1           3          4   \n",
       "399841  San Carlos de Bariloche              1           7          4   \n",
       "400917  San Carlos de Bariloche              1           8          4   \n",
       "\n",
       "       motivo_viaje actividades naturaleza  \n",
       "396895            2           2          2  \n",
       "397269            1           2          1  \n",
       "398377            2           1          2  \n",
       "399841            1           2          1  \n",
       "400917            2           1          1  "
      ]
     },
     "execution_count": 47,
     "metadata": {},
     "output_type": "execute_result"
    }
   ],
   "source": [
    "viajes = viajes.astype(str)\n",
    "viajes.head()"
   ]
  },
  {
   "cell_type": "markdown",
   "id": "b9945747",
   "metadata": {},
   "source": [
    "Se reemplazan ahora por los valores respectivos"
   ]
  },
  {
   "cell_type": "code",
   "execution_count": null,
   "id": "b4b0a270",
   "metadata": {},
   "outputs": [],
   "source": [
    "# Faltaría:\n",
    "#reemplazar los valores de índices por la descripción, en todas las columnas del dataset viajes\n",
    "#generar un archivo output.csv para el robot framework"
   ]
  }
 ],
 "metadata": {
  "kernelspec": {
   "display_name": "Python 3 (ipykernel)",
   "language": "python",
   "name": "python3"
  },
  "language_info": {
   "codemirror_mode": {
    "name": "ipython",
    "version": 3
   },
   "file_extension": ".py",
   "mimetype": "text/x-python",
   "name": "python",
   "nbconvert_exporter": "python",
   "pygments_lexer": "ipython3",
   "version": "3.10.2"
  }
 },
 "nbformat": 4,
 "nbformat_minor": 5
}
