{
 "cells": [
  {
   "cell_type": "code",
   "execution_count": null,
   "id": "97065123",
   "metadata": {},
   "outputs": [],
   "source": [
    "'''\n",
    "Consideraciones:\n",
    "- agregar excepción si no puede encontrar el archivo output\n",
    "- consultar con selenium o requests antes, si la URL da status 200\n",
    "- mejorar la velocidad de la carga de datos\n",
    "\n",
    "'''"
   ]
  },
  {
   "cell_type": "markdown",
   "id": "dc15d8ed",
   "metadata": {},
   "source": [
    "#### Librerías"
   ]
  },
  {
   "cell_type": "code",
   "execution_count": 102,
   "id": "156f6f2c",
   "metadata": {},
   "outputs": [],
   "source": [
    "from selenium import webdriver\n",
    "from selenium.webdriver.support.wait import WebDriverWait\n",
    "from selenium.webdriver.support import expected_conditions as EC\n",
    "from selenium.webdriver.common.by import By\n",
    "import pandas as pd\n",
    "import time"
   ]
  },
  {
   "cell_type": "markdown",
   "id": "0654b137",
   "metadata": {},
   "source": [
    "#### Preparar los datos para la carga"
   ]
  },
  {
   "cell_type": "code",
   "execution_count": 126,
   "id": "286cbc8a",
   "metadata": {},
   "outputs": [
    {
     "data": {
      "text/html": [
       "<div>\n",
       "<style scoped>\n",
       "    .dataframe tbody tr th:only-of-type {\n",
       "        vertical-align: middle;\n",
       "    }\n",
       "\n",
       "    .dataframe tbody tr th {\n",
       "        vertical-align: top;\n",
       "    }\n",
       "\n",
       "    .dataframe thead th {\n",
       "        text-align: right;\n",
       "    }\n",
       "</style>\n",
       "<table border=\"1\" class=\"dataframe\">\n",
       "  <thead>\n",
       "    <tr style=\"text-align: right;\">\n",
       "      <th></th>\n",
       "      <th>region_origen</th>\n",
       "      <th>aglomerado_origen</th>\n",
       "      <th>alojamiento</th>\n",
       "      <th>motivo_viaje</th>\n",
       "      <th>aire_libre</th>\n",
       "      <th>naturaleza</th>\n",
       "    </tr>\n",
       "  </thead>\n",
       "  <tbody>\n",
       "    <tr>\n",
       "      <th>0</th>\n",
       "      <td>Centro</td>\n",
       "      <td>Gran Córdoba</td>\n",
       "      <td>Hotel u hostería hasta 3 estrellas (o categori...</td>\n",
       "      <td>Visitas a familiares o amigos</td>\n",
       "      <td>No</td>\n",
       "      <td>No</td>\n",
       "    </tr>\n",
       "    <tr>\n",
       "      <th>1</th>\n",
       "      <td>Litoral</td>\n",
       "      <td>Gran Rosario</td>\n",
       "      <td>Hotel u hostería hasta 3 estrellas (o categori...</td>\n",
       "      <td>Esparcimiento, ocio, recreacion</td>\n",
       "      <td>No</td>\n",
       "      <td>Si</td>\n",
       "    </tr>\n",
       "    <tr>\n",
       "      <th>2</th>\n",
       "      <td>Cuyo</td>\n",
       "      <td>Gran Mendoza</td>\n",
       "      <td>Vivienda de familiares o amigos que  residen e...</td>\n",
       "      <td>Visitas a familiares o amigos</td>\n",
       "      <td>Si</td>\n",
       "      <td>No</td>\n",
       "    </tr>\n",
       "    <tr>\n",
       "      <th>3</th>\n",
       "      <td>Cuyo</td>\n",
       "      <td>Gran Mendoza</td>\n",
       "      <td>Hotel u hostería hasta 3 estrellas (o categori...</td>\n",
       "      <td>Esparcimiento, ocio, recreacion</td>\n",
       "      <td>No</td>\n",
       "      <td>Si</td>\n",
       "    </tr>\n",
       "    <tr>\n",
       "      <th>4</th>\n",
       "      <td>Centro</td>\n",
       "      <td>Gran Córdoba</td>\n",
       "      <td>Hotel 4 y 5 estrellas, apart hotel o similares</td>\n",
       "      <td>Visitas a familiares o amigos</td>\n",
       "      <td>Si</td>\n",
       "      <td>Si</td>\n",
       "    </tr>\n",
       "  </tbody>\n",
       "</table>\n",
       "</div>"
      ],
      "text/plain": [
       "  region_origen aglomerado_origen  \\\n",
       "0        Centro      Gran Córdoba   \n",
       "1       Litoral      Gran Rosario   \n",
       "2          Cuyo      Gran Mendoza   \n",
       "3          Cuyo      Gran Mendoza   \n",
       "4        Centro      Gran Córdoba   \n",
       "\n",
       "                                         alojamiento  \\\n",
       "0  Hotel u hostería hasta 3 estrellas (o categori...   \n",
       "1  Hotel u hostería hasta 3 estrellas (o categori...   \n",
       "2  Vivienda de familiares o amigos que  residen e...   \n",
       "3  Hotel u hostería hasta 3 estrellas (o categori...   \n",
       "4     Hotel 4 y 5 estrellas, apart hotel o similares   \n",
       "\n",
       "                      motivo_viaje aire_libre naturaleza  \n",
       "0    Visitas a familiares o amigos         No         No  \n",
       "1  Esparcimiento, ocio, recreacion         No         Si  \n",
       "2    Visitas a familiares o amigos         Si         No  \n",
       "3  Esparcimiento, ocio, recreacion         No         Si  \n",
       "4    Visitas a familiares o amigos         Si         Si  "
      ]
     },
     "execution_count": 126,
     "metadata": {},
     "output_type": "execute_result"
    }
   ],
   "source": [
    "data = pd.read_csv('data/output_viajes.csv')\n",
    "data = data.drop('Unnamed: 0',axis=1)\n",
    "data.head()"
   ]
  },
  {
   "cell_type": "markdown",
   "id": "25c78e56",
   "metadata": {},
   "source": [
    "Columna: region_origen"
   ]
  },
  {
   "cell_type": "code",
   "execution_count": 51,
   "id": "f9630c14",
   "metadata": {},
   "outputs": [],
   "source": [
    "#--------Radio button----------\n",
    "\n",
    "# Diccionario para mapear opciones con los xpath\n",
    "# (Patagonia no está, así que se omite)\n",
    "\n",
    "reg_origen = {\n",
    "    'Centro': 'i5',\n",
    "    'Litoral':'i8',\n",
    "    'Norte':'i11',\n",
    "    'Cuyo':'i14'   \n",
    "}\n"
   ]
  },
  {
   "cell_type": "markdown",
   "id": "f7acae3f",
   "metadata": {},
   "source": [
    "Columna: aglomerado_origen"
   ]
  },
  {
   "cell_type": "code",
   "execution_count": 26,
   "id": "986fb10b",
   "metadata": {},
   "outputs": [],
   "source": [
    "#--------List box----------\n",
    "\n",
    "# obtiene los valores únicos de la columna\n",
    "temp = data['aglomerado_origen'].unique()\n",
    "\n",
    "# Los div[] del xpath comienzan en 3\n",
    "contador = 3\n",
    "\n",
    "# Genero diccionario y cargo datos\n",
    "agl_origen = {}\n",
    "\n",
    "for i in temp:\n",
    "\n",
    "    xpath = f\"//*[contains(@class, 'OA0qNb ncFHed QXL7Te')]/div[{contador}]\"\n",
    "    agl_origen[i] = xpath\n",
    "    contador += 1\n",
    "\n"
   ]
  },
  {
   "cell_type": "markdown",
   "id": "8186de8e",
   "metadata": {},
   "source": [
    "Columna: alojamiento"
   ]
  },
  {
   "cell_type": "code",
   "execution_count": 59,
   "id": "3b7aa644",
   "metadata": {},
   "outputs": [],
   "source": [
    "#--------Radio button----------\n",
    "\n",
    "alojam = {\n",
    "    'Hotel u hostería hasta 3 estrellas (o categoria desconocida), hospedaje residencial, cabania o bungalow, albergue, etc.':'i28',\n",
    "    'Vivienda de familiares o amigos que  residen en ella':'i31',\n",
    "    'Hotel 4 y 5 estrellas, apart hotel o similares':'i34',\n",
    "    'Vivienda alquilada por temporada':'i37',\n",
    "    'Camping (carpa, casa rodante)':'i40'\n",
    "}\n",
    "\n",
    "#driver = webdriver.Firefox()\n",
    "#url_form = \"https://docs.google.com/forms/d/e/1FAIpQLSdRCqe54MSDtz3tSjjw0few6OGz0gTQ0NwnKc7Bd--FHwDyvg/viewform?usp=sf_link\"\n",
    "#driver.get(url_form)\n"
   ]
  },
  {
   "cell_type": "markdown",
   "id": "a938dadb",
   "metadata": {},
   "source": [
    "Columna: motivo_viaje"
   ]
  },
  {
   "cell_type": "code",
   "execution_count": 53,
   "id": "4beb6307",
   "metadata": {},
   "outputs": [],
   "source": [
    "#--------Radio button----------\n",
    "\n",
    "motivo = {\n",
    "    'Esparcimiento, ocio, recreacion': 'i47',\n",
    "    'Visitas a familiares o amigos':'i50',\n",
    "    'Otros':'i53',\n",
    "    'Estudios y formación':'i56'    \n",
    "}\n"
   ]
  },
  {
   "cell_type": "markdown",
   "id": "05efe58a",
   "metadata": {},
   "source": [
    "Columna: aire_libre"
   ]
  },
  {
   "cell_type": "code",
   "execution_count": 71,
   "id": "9640e11f",
   "metadata": {},
   "outputs": [],
   "source": [
    "#--------Radio button----------\n",
    "\n",
    "a_libre = {\n",
    "    'Si': 'i63',\n",
    "    'No': 'i66'\n",
    "}\n",
    "\n"
   ]
  },
  {
   "cell_type": "markdown",
   "id": "eeba6f98",
   "metadata": {},
   "source": [
    "Columna: naturaleza"
   ]
  },
  {
   "cell_type": "code",
   "execution_count": 72,
   "id": "a276be02",
   "metadata": {},
   "outputs": [],
   "source": [
    "#--------Radio button----------\n",
    "\n",
    "natura = {\n",
    "    'Si': 'i73',\n",
    "    'No': 'i76'\n",
    "}\n",
    "\n"
   ]
  },
  {
   "cell_type": "markdown",
   "id": "c356b1c6",
   "metadata": {},
   "source": [
    "#### Cargar el formulario"
   ]
  },
  {
   "cell_type": "code",
   "execution_count": 127,
   "id": "5e621b93",
   "metadata": {},
   "outputs": [],
   "source": [
    "driver = webdriver.Firefox()\n",
    "\n",
    "\n",
    "for row,columns in data.iterrows():\n",
    "          \n",
    "\n",
    "    # --- Abrir formulario ---\n",
    "    url_form = \"https://docs.google.com/forms/d/e/1FAIpQLSdRCqe54MSDtz3tSjjw0few6OGz0gTQ0NwnKc7Bd--FHwDyvg/viewform?usp=sf_link\"\n",
    "    driver.get(url_form)\n",
    "    time.sleep(2)\n",
    "  \n",
    "    # --- Región de origen ---\n",
    "    driver.find_element_by_id(reg_origen[columns['region_origen']]).click()\n",
    "\n",
    "    # --- Aglomerado origen ---\n",
    "    # Para abrir la lista deplegable antes\n",
    "    x1 =  \"//*[contains(@class, 'jgvuAb ybOdnf cGN2le t9kgXb llrsB')]\"\n",
    "    driver.find_element_by_xpath(x1).click() \n",
    "    # Seleccionar de la lista\n",
    "    \n",
    "    driver.find_element_by_xpath(agl_origen[columns['aglomerado_origen']]).click()\n",
    "    \n",
    "    time.sleep(2)\n",
    "    \n",
    "    # --- Alojamiento ---\n",
    "  \n",
    "    driver.find_element_by_id(alojam[columns['alojamiento']]).click()\n",
    "\n",
    "    # --- Motivo de viaje ---\n",
    "    driver.find_element_by_id(motivo[columns['motivo_viaje']]).click()\n",
    "   \n",
    "    # --- Actividades al aire libre ---\n",
    "    driver.find_element_by_id(a_libre[columns['aire_libre']]).click()\n",
    "    \n",
    "    # --- Naturaleza ---\n",
    "    driver.find_element_by_id(natura[columns['naturaleza']]).click()\n",
    "\n",
    "    # --- Enviar formulario ---\n",
    "    driver.find_element_by_xpath(\"//*[@id='mG61Hd']/div[2]/div/div[3]/div/div/div\").click()\n",
    "    \n",
    "    \n",
    "                                                        \n",
    "driver.close()\n",
    "    "
   ]
  },
  {
   "cell_type": "code",
   "execution_count": null,
   "id": "8eed8c9c",
   "metadata": {},
   "outputs": [],
   "source": []
  }
 ],
 "metadata": {
  "kernelspec": {
   "display_name": "Python 3 (ipykernel)",
   "language": "python",
   "name": "python3"
  },
  "language_info": {
   "codemirror_mode": {
    "name": "ipython",
    "version": 3
   },
   "file_extension": ".py",
   "mimetype": "text/x-python",
   "name": "python",
   "nbconvert_exporter": "python",
   "pygments_lexer": "ipython3",
   "version": "3.10.2"
  }
 },
 "nbformat": 4,
 "nbformat_minor": 5
}
