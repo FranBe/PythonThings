{
  "nbformat": 4,
  "nbformat_minor": 0,
  "metadata": {
    "colab": {
      "provenance": [],
      "authorship_tag": "ABX9TyOJ2xynXxBFHznoEo8qQaoh",
      "include_colab_link": true
    },
    "kernelspec": {
      "name": "python3",
      "display_name": "Python 3"
    },
    "language_info": {
      "name": "python"
    }
  },
  "cells": [
    {
      "cell_type": "markdown",
      "metadata": {
        "id": "view-in-github",
        "colab_type": "text"
      },
      "source": [
        "<a href=\"https://colab.research.google.com/github/FranBe/PythonThings/blob/master/AdventOfCode/adventOfCode_2016.ipynb\" target=\"_parent\"><img src=\"https://colab.research.google.com/assets/colab-badge.svg\" alt=\"Open In Colab\"/></a>"
      ]
    },
    {
      "cell_type": "markdown",
      "source": [
        "# Advent of code 2016"
      ],
      "metadata": {
        "id": "XLyBPJEg8pbW"
      }
    },
    {
      "cell_type": "markdown",
      "source": [
        "Imports"
      ],
      "metadata": {
        "id": "LfMWM8kz8x7z"
      }
    },
    {
      "cell_type": "code",
      "source": [
        "import re\n",
        "import requests as req\n",
        "from urllib.request import urlopen"
      ],
      "metadata": {
        "id": "88eLtdZ4c_7_"
      },
      "execution_count": 31,
      "outputs": []
    },
    {
      "cell_type": "markdown",
      "source": [
        "Global parameters"
      ],
      "metadata": {
        "id": "8TTJ36VL812i"
      }
    },
    {
      "cell_type": "code",
      "execution_count": 16,
      "metadata": {
        "id": "IieflQyYafAS"
      },
      "outputs": [],
      "source": [
        "#Variables ans lists to testing\n",
        "ind_test1 = ['R2', 'R2', 'R2']\n",
        "ind_test2 = ['R8', 'R4', 'R4', 'R8']\n",
        "ind_test3 = ['R2', 'L3']\n",
        "ind_test4 = ['R230']\n",
        "#input values\n",
        "inst = \"L4, L3, R1, L4, R2, R2, L1, L2, R1, R1, L3, R5, L2, R5, L4, L3, R2, R2, L5, L1, R4, L1, R3, L3, R5, R2, L5, R2, R1, R1, L5, R1, L3, L2, L5, R4, R4, L2, L1, L1, R1, R1, L185, R4, L1, L1, R5, R1, L1, L3, L2, L1, R2, R2, R2, L1, L1, R4, R5, R53, L1, R1, R78, R3, R4, L1, R5, L1, L4, R3, R3, L3, L3, R191, R4, R1, L4, L1, R3, L1, L2, R3, R2, R4, R5, R5, L3, L5, R2, R3, L1, L1, L3, R1, R4, R1, R3, R4, R4, R4, R5, R2, L5, R1, R2, R5, L3, L4, R1, L5, R1, L4, L3, R5, R5, L3, L4, L4, R2, R2, L5, R3, R1, R2, R5, L5, L3, R4, L5, R5, L3, R1, L1, R4, R4, L3, R2, R5, R1, R2, L1, R4, R1, L3, L3, L5, R2, R5, L1, L4, R3, R3, L3, R2, L5, R1, R3, L3, R2, L1, R4, R3, L4, R5, L2, L2, R5, R1, R2, L4, L4, L5, R3, L4\"\n"
      ]
    },
    {
      "cell_type": "markdown",
      "source": [
        "### Set of utilities (functions)"
      ],
      "metadata": {
        "id": "P1qKj7uY8MZj"
      }
    },
    {
      "cell_type": "code",
      "source": [
        "def getInput(day, year):\n",
        "  \"\"\"Get code according to the day\n",
        "    \n",
        "    Args:\n",
        "      numDay (int): number of day challenge\n",
        "\n",
        "    Returns:\n",
        "      input (string): string input for the challenge\n",
        "  \"\"\"\n",
        "  \n"
      ],
      "metadata": {
        "id": "SVISkAbF8HVl"
      },
      "execution_count": 33,
      "outputs": []
    },
    {
      "cell_type": "code",
      "source": [
        "from google.colab import drive\n",
        "drive.mount('/content/drive')"
      ],
      "metadata": {
        "id": "AU-1q5lgNgkk"
      },
      "execution_count": null,
      "outputs": []
    },
    {
      "cell_type": "markdown",
      "source": [
        "## Days of code\n"
      ],
      "metadata": {
        "id": "arFB0QYU8cD2"
      }
    },
    {
      "cell_type": "markdown",
      "source": [
        "### Day 1"
      ],
      "metadata": {
        "id": "CZvtQef3-qdd"
      }
    },
    {
      "cell_type": "markdown",
      "source": [
        "**Part One** "
      ],
      "metadata": {
        "id": "TMmMujNm-wNB"
      }
    },
    {
      "cell_type": "code",
      "source": [
        "def getHQ(list_inst):\n",
        "\n",
        "  \"\"\"Get headwuarters location\n",
        "  \n",
        "    Considerations:\n",
        "      East (E)\n",
        "      West (W)\n",
        "      North (N)\n",
        "      South (S)\n",
        "\n",
        "    Args:\n",
        "      list_inst(list): list of intructions (string list)\n",
        "\n",
        "    Returns: \n",
        "      res (int): result\n",
        "  \n",
        "  \"\"\"\n",
        "  dir = 'N'\n",
        "  vec = [0,0] #['East'/'West', 'North'/'South']\n",
        "  track = [0,0]\n",
        "\n",
        "  for i in list_inst:\n",
        "\n",
        "    temp = re.findall('\\d+',i)\n",
        "    num = int(temp[0])\n",
        "    \n",
        "    if 'R' in i:\n",
        "\n",
        "      if dir == 'N':\n",
        "        dir = 'E'\n",
        "        vec[0] = vec[0] + num\n",
        "        track[0] = num\n",
        "      elif dir == 'E':\n",
        "        dir = 'S'\n",
        "        vec[1] = vec[1] - num\n",
        "      elif dir == 'S':\n",
        "        dir = 'W'\n",
        "        vec[0] = vec[0] - num\n",
        "      else:\n",
        "        dir = 'N'\n",
        "        vec[1] = vec[1] + num\n",
        "      \n",
        "    if 'L' in i:\n",
        "                \n",
        "      if dir == 'N':\n",
        "        dir = 'W'\n",
        "        vec[0] = vec[0] - num\n",
        "      elif dir == 'W':\n",
        "        dir = 'S'\n",
        "        vec[1] = vec[1] - num\n",
        "      elif dir == 'S':\n",
        "        dir = 'E'\n",
        "        vec[0] = vec[0] + num\n",
        "      else:\n",
        "        dir = 'N'\n",
        "        vec[1] = vec[1] + num\n",
        "\n",
        "\n",
        "  res = abs(vec[0]) + abs(vec[1])\n",
        "\n",
        "  return res\n",
        "    "
      ],
      "metadata": {
        "id": "slU7_awwa22T"
      },
      "execution_count": 14,
      "outputs": []
    },
    {
      "cell_type": "markdown",
      "source": [
        "Another version, using complex numbres to represent angles and values"
      ],
      "metadata": {
        "id": "f9FQOJ6Z_gfb"
      }
    },
    {
      "cell_type": "code",
      "source": [
        "#My code here"
      ],
      "metadata": {
        "id": "oZPsvR1VQDs7"
      },
      "execution_count": null,
      "outputs": []
    },
    {
      "cell_type": "code",
      "source": [
        "#Results\n",
        "l = inst.split(\", \")\n",
        "print(getHQ(l))"
      ],
      "metadata": {
        "colab": {
          "base_uri": "https://localhost:8080/"
        },
        "id": "mPezR3hjd36f",
        "outputId": "aa82944a-12cf-40d2-cbf6-f02e4fe9ab9e"
      },
      "execution_count": 17,
      "outputs": [
        {
          "output_type": "stream",
          "name": "stdout",
          "text": [
            "8\n"
          ]
        }
      ]
    },
    {
      "cell_type": "markdown",
      "source": [
        "**Part two**"
      ],
      "metadata": {
        "id": "5Swph0_X-14x"
      }
    },
    {
      "cell_type": "code",
      "source": [],
      "metadata": {
        "id": "Ij1Ln7Hk-4Gq"
      },
      "execution_count": 17,
      "outputs": []
    }
  ]
}